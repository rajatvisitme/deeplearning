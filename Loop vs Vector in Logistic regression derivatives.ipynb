{
 "cells": [
  {
   "cell_type": "markdown",
   "metadata": {},
   "source": [
    "# Loop vs Vectorization in <br> Logistic regression derivatives\n",
    "<div style=\"text-align: right\"> by Rajat Agrawal </div>"
   ]
  },
  {
   "cell_type": "code",
   "execution_count": 1,
   "metadata": {},
   "outputs": [],
   "source": [
    "import numpy as np"
   ]
  },
  {
   "cell_type": "code",
   "execution_count": 2,
   "metadata": {},
   "outputs": [],
   "source": [
    "#            x1(1) x1(2) x1(3)\n",
    "X =np.array([[1.,   2.,   3.], \n",
    "             [4.,   5.,   6.]])\n",
    "#            x2(1) x2(2) x2(3)\n",
    "# Shape of X is (2, 3), rows are input features (i.e. x1 & x2), and columns are number of training examples.\n",
    "\n",
    "w =  np.array([[0.],\n",
    "               [0.]])\n",
    "# Shape of w is (2, 1). Where 2 is for input features, 1 is for output.\n",
    "\n",
    "b = 3.,\n",
    "\n",
    "Y = np.array([[1, 0, 1]])\n",
    "\n",
    "# Number of input features.\n",
    "n_x = X.shape[0]\n",
    "\n",
    "# Number of training examples.\n",
    "m = X.shape[1]"
   ]
  },
  {
   "cell_type": "markdown",
   "metadata": {},
   "source": [
    "## For loop approach"
   ]
  },
  {
   "cell_type": "code",
   "execution_count": 3,
   "metadata": {},
   "outputs": [],
   "source": [
    "# Here we are taking different input features seperately (for clear understanding).\n",
    "x1 = X[0].reshape(1,3)  # [[1.,   2.,   3.]]\n",
    "x2 = X[1].reshape(1,3)  # [[4.,   5.,   6.]]"
   ]
  },
  {
   "cell_type": "code",
   "execution_count": 4,
   "metadata": {},
   "outputs": [
    {
     "name": "stdout",
     "output_type": "stream",
     "text": [
      "dw1:  0.090353319461824\n",
      "dw2:  0.22588329865456\n"
     ]
    }
   ],
   "source": [
    "# initializing all parameters.\n",
    "\n",
    "J = dw1 = dw2 = db = 0\n",
    "z = np.zeros((1, 3))\n",
    "a = np.zeros((1, 3))\n",
    "dz = np.zeros((1, 3))\n",
    "#grads = {\"dw1\": dw1, \"dw2\": dw2}\n",
    "\n",
    "for i in range(X.shape[1]): #(iteration on training examples)\n",
    "    z[0][i] = np.dot(w.T, X[:,i]) + b\n",
    "    a[0][i] = 1 / (1 + np.exp(-z[0][i]))\n",
    "    J += -(Y[0][i] * np.log(a[0][i]) + (1 - Y[0][i]) * np.log(1 - a[0][i]))\n",
    "    dz[0][i] = a[0][i]*(1 - a[0][i])\n",
    "    '''\n",
    "    for j in range(n_x):        # Loop through all dw\n",
    "        grads[\"dw\" + str(j+1)] += (X[j][i]*dz[0][i])/m\n",
    "    '''   \n",
    "    dw1 += x1[0][i]*dz[0][i]    # Here we have only dw1 and dw2 so we are not using loop. Otherwise, we have to.\n",
    "    dw2 += x2[0][i]*dz[0][i]\n",
    "    db += dz[0][i]\n",
    "\n",
    "J /= m\n",
    "dw1 /= m\n",
    "dw2 /= m\n",
    "db /= m\n",
    "\n",
    "#print(\"dw1: \", grads[\"dw1\"])\n",
    "#print(\"dw2: \", grads[\"dw2\"])\n",
    "\n",
    "print(\"dw1: \", dw1)\n",
    "print(\"dw2: \", dw2)"
   ]
  },
  {
   "cell_type": "markdown",
   "metadata": {},
   "source": [
    "## Vector approach"
   ]
  },
  {
   "cell_type": "markdown",
   "metadata": {},
   "source": [
    "### Only for calculating weight derivatives."
   ]
  },
  {
   "cell_type": "code",
   "execution_count": 5,
   "metadata": {},
   "outputs": [
    {
     "name": "stdout",
     "output_type": "stream",
     "text": [
      "dw1:  [0.09035332]\n",
      "dw2:  [0.2258833]\n"
     ]
    }
   ],
   "source": [
    "# initializing all parameters.\n",
    "\n",
    "J = dw1 = dw2 = db = 0\n",
    "z = np.zeros((1, 3))\n",
    "a = np.zeros((1, 3))\n",
    "dz = np.zeros((1, 3))\n",
    "\n",
    "dw = np.zeros((n_x, 1))\n",
    "\n",
    "\n",
    "for i in range(X.shape[1]): #(iteration on training examples)\n",
    "    z[0][i] = np.dot(w.T, X[:,i]) + b\n",
    "    a[0][i] = 1 / (1 + np.exp(-z[0][i]))\n",
    "    J += -(Y[0][i] * np.log(a[0][i]) + (1 - Y[0][i]) * np.log(1 - a[0][i]))\n",
    "    dz[0][i] = a[0][i]*(1 - a[0][i])\n",
    "    \n",
    "    db += dz[0][i]\n",
    "\n",
    "dw = np.dot(X, dz.T)\n",
    "\n",
    "J /= m\n",
    "dw /= m\n",
    "db /= m\n",
    "\n",
    "print(\"dw1: \", dw[0])\n",
    "print(\"dw2: \", dw[1])"
   ]
  },
  {
   "cell_type": "markdown",
   "metadata": {},
   "source": [
    "### Fully vectorized implementation."
   ]
  },
  {
   "cell_type": "code",
   "execution_count": 6,
   "metadata": {},
   "outputs": [
    {
     "name": "stdout",
     "output_type": "stream",
     "text": [
      "A:  [[0.95257413 0.95257413 0.95257413]]\n",
      "A:  (1, 3)\n",
      "\n",
      "dz:  [[0.04517666 0.04517666 0.04517666]]\n",
      "dz:  (1, 3)\n",
      "\n",
      "dw:  [[0.09035332]\n",
      " [0.2258833 ]]\n",
      "dw:  (2, 1)\n",
      "\n",
      "dw:  [[0.09035332]\n",
      " [0.2258833 ]]\n",
      "dw:  (2, 1)\n"
     ]
    }
   ],
   "source": [
    "Z = np.dot(w.T, X) + b\n",
    "A = 1 / (1 + np.exp(-Z))\n",
    "dz = A*(1 - A)\n",
    "dw = np.zeros((n_x, 1))\n",
    "dw = np.dot(X, dz.T)\n",
    "\n",
    "dw /= m\n",
    "\n",
    "print(\"A: \", A)\n",
    "print(\"A: \", A.shape)\n",
    "print(\"\\ndz: \", dz)\n",
    "print(\"dz: \", dz.shape)\n",
    "print(\"\\ndw: \", dw)\n",
    "print(\"dw: \", dw.shape)\n",
    "print(\"\\ndw: \", dw)\n",
    "print(\"dw: \", dw.shape)"
   ]
  },
  {
   "cell_type": "code",
   "execution_count": null,
   "metadata": {},
   "outputs": [],
   "source": []
  }
 ],
 "metadata": {
  "kernelspec": {
   "display_name": "Python 3",
   "language": "python",
   "name": "python3"
  },
  "language_info": {
   "codemirror_mode": {
    "name": "ipython",
    "version": 3
   },
   "file_extension": ".py",
   "mimetype": "text/x-python",
   "name": "python",
   "nbconvert_exporter": "python",
   "pygments_lexer": "ipython3",
   "version": "3.7.3"
  }
 },
 "nbformat": 4,
 "nbformat_minor": 4
}
